{
 "cells": [
  {
   "attachments": {},
   "cell_type": "markdown",
   "metadata": {},
   "source": [
    "# Notebook \"5_Besoin_3_otimisation_cmb_10_profils\"\n",
    "\n",
    "\n",
    "## Description\n",
    "\n",
    "Ce notebook se focalise sur l'analyse exploratoire concernant l'optmisation de la CMB 10 profils naive\n",
    "\n",
    "## Structure du notebook\n",
    "\n",
    "Ce notebook est construit de plusieurs parties :\n",
    "- I. Import des bibliothèques\n",
    "- II. Chargement des données et des profils\n",
    "- III. Analyse exploratoire\n",
    "\n",
    "## Prérequis\n",
    "\n",
    "### Source de données\n",
    "\n",
    "Pour que le notebook fonctionne, il est nécessaire que le fichier project_config.yml soit situé au même niveau que ce notebook : ce fichier permet la connexion à la source de données.\n",
    "\n",
    "### Installation des prérequis techniques\n",
    "\n",
    "Le notebook fonctionne sur Python 3.7 avec les bibliothèques suivantes :\n",
    "- pandas\n",
    "- psycopg2\n",
    "- sqlachemy\n",
    "- sklearn\n",
    "- numpy\n",
    "- yaml\n",
    "- matplotlib"
   ]
  },
  {
   "attachments": {},
   "cell_type": "markdown",
   "metadata": {},
   "source": [
    "# I - Import des bibliothèques"
   ]
  },
  {
   "cell_type": "code",
   "execution_count": 7,
   "metadata": {},
   "outputs": [],
   "source": [
    "# handling postgres database\n",
    "import psycopg2\n",
    "import pandas.io.sql as sqlio\n",
    "import pandas as pd \n",
    "from sqlalchemy import create_engine\n",
    "from io import StringIO\n",
    "from sklearn.linear_model import Lasso\n",
    "from sklearn import metrics\n",
    "import numpy as np\n",
    "from datetime import datetime, timedelta\n",
    "import matplotlib.pyplot as plt\n",
    "import yaml\n",
    "from IPython.display import clear_output\n",
    "import itertools\n",
    "\n",
    "Profiles = ['HOA',\n",
    "    'BBOA',\n",
    "    'OPOA/OBBOA',\n",
    "    'BSOA (marine)',\n",
    "    'BSOA (isoprene)',\n",
    "    'ASOA (nitro-PAHs)',\n",
    "    'ASOA (oxy-PAHs)',\n",
    "    'ASOA (phenolic compounds oxidation)',\n",
    "    'ASOA (toluene oxidation)',\n",
    "    'SOA (unknown)']"
   ]
  },
  {
   "attachments": {},
   "cell_type": "markdown",
   "metadata": {},
   "source": [
    "# II - Chargement des données et des profils"
   ]
  },
  {
   "attachments": {},
   "cell_type": "markdown",
   "metadata": {},
   "source": [
    "## II.a Recherche des identifiants de connexion"
   ]
  },
  {
   "cell_type": "code",
   "execution_count": 8,
   "metadata": {},
   "outputs": [],
   "source": [
    "with open(r'.\\project_config.yml') as file:\n",
    "    dbInfo = yaml.load(file, Loader=yaml.FullLoader)\n",
    "    HOSTNAME = dbInfo[\"project-database\"][\"hostname\"]\n",
    "    DATABASE = dbInfo[\"project-database\"][\"name\"]\n",
    "    USER = dbInfo[\"project-database\"][\"user\"]\n",
    "    PASSWORD = dbInfo[\"project-database\"][\"password\"]\n",
    "    PORT = \"5432\""
   ]
  },
  {
   "attachments": {},
   "cell_type": "markdown",
   "metadata": {},
   "source": [
    "## II.b Recherche des profils"
   ]
  },
  {
   "cell_type": "code",
   "execution_count": 9,
   "metadata": {},
   "outputs": [],
   "source": [
    "df = pd.read_excel('./pmf_profiles.xlsx', engine='openpyxl')\n",
    "\n",
    "df.drop(columns=['Unnamed: 0'], inplace=True)\n",
    "df.rename(columns={'Unnamed: 1': 'amus'}, inplace=True)\n",
    "df = df[[\"amus\"] + Profiles]\n",
    "pro = df.columns[1:]"
   ]
  },
  {
   "attachments": {},
   "cell_type": "markdown",
   "metadata": {},
   "source": [
    "## II.c Récupération des données"
   ]
  },
  {
   "cell_type": "code",
   "execution_count": 11,
   "metadata": {},
   "outputs": [
    {
     "ename": "OperationalError",
     "evalue": "could not translate host name \"13.postgresql.dev.asterix.heka.ai\" to address: Unknown host\n",
     "output_type": "error",
     "traceback": [
      "\u001b[1;31m---------------------------------------------------------------------------\u001b[0m",
      "\u001b[1;31mOperationalError\u001b[0m                          Traceback (most recent call last)",
      "\u001b[1;32m<ipython-input-11-ee99d7019990>\u001b[0m in \u001b[0;36m<module>\u001b[1;34m\u001b[0m\n\u001b[0;32m      6\u001b[0m sql = f\"\"\"SELECT to_char(date, 'YYYY-MM-DD HH24:00:00') FROM(SELECT date FROM public.data_receptor \n\u001b[0;32m      7\u001b[0m           WHERE date >= '{start_date}' AND date <= '{end_date}' GROUP BY 1 ORDER BY 1) AS foo;\"\"\"\n\u001b[1;32m----> 8\u001b[1;33m \u001b[0mconnection\u001b[0m \u001b[1;33m=\u001b[0m \u001b[0mpsycopg2\u001b[0m\u001b[1;33m.\u001b[0m\u001b[0mconnect\u001b[0m\u001b[1;33m(\u001b[0m\u001b[0muser\u001b[0m \u001b[1;33m=\u001b[0m \u001b[0mUSER\u001b[0m\u001b[1;33m,\u001b[0m \u001b[0mpassword\u001b[0m \u001b[1;33m=\u001b[0m \u001b[0mPASSWORD\u001b[0m\u001b[1;33m,\u001b[0m \u001b[0mhost\u001b[0m \u001b[1;33m=\u001b[0m \u001b[0mHOSTNAME\u001b[0m\u001b[1;33m,\u001b[0m \u001b[0mport\u001b[0m \u001b[1;33m=\u001b[0m \u001b[0mPORT\u001b[0m\u001b[1;33m,\u001b[0m \u001b[0mdatabase\u001b[0m \u001b[1;33m=\u001b[0m \u001b[0mDATABASE\u001b[0m\u001b[1;33m)\u001b[0m\u001b[1;33m\u001b[0m\u001b[1;33m\u001b[0m\u001b[0m\n\u001b[0m\u001b[0;32m      9\u001b[0m \u001b[0mdf_dates\u001b[0m \u001b[1;33m=\u001b[0m \u001b[0msqlio\u001b[0m\u001b[1;33m.\u001b[0m\u001b[0mread_sql_query\u001b[0m\u001b[1;33m(\u001b[0m\u001b[0msql\u001b[0m\u001b[1;33m,\u001b[0m \u001b[0mconnection\u001b[0m\u001b[1;33m)\u001b[0m\u001b[1;33m\u001b[0m\u001b[1;33m\u001b[0m\u001b[0m\n\u001b[0;32m     10\u001b[0m \u001b[0mconnection\u001b[0m\u001b[1;33m.\u001b[0m\u001b[0mclose\u001b[0m\u001b[1;33m(\u001b[0m\u001b[1;33m)\u001b[0m\u001b[1;33m\u001b[0m\u001b[1;33m\u001b[0m\u001b[0m\n",
      "\u001b[1;32m~\\Anaconda3\\envs\\ineris\\lib\\site-packages\\psycopg2\\__init__.py\u001b[0m in \u001b[0;36mconnect\u001b[1;34m(dsn, connection_factory, cursor_factory, **kwargs)\u001b[0m\n\u001b[0;32m    125\u001b[0m \u001b[1;33m\u001b[0m\u001b[0m\n\u001b[0;32m    126\u001b[0m     \u001b[0mdsn\u001b[0m \u001b[1;33m=\u001b[0m \u001b[0m_ext\u001b[0m\u001b[1;33m.\u001b[0m\u001b[0mmake_dsn\u001b[0m\u001b[1;33m(\u001b[0m\u001b[0mdsn\u001b[0m\u001b[1;33m,\u001b[0m \u001b[1;33m**\u001b[0m\u001b[0mkwargs\u001b[0m\u001b[1;33m)\u001b[0m\u001b[1;33m\u001b[0m\u001b[1;33m\u001b[0m\u001b[0m\n\u001b[1;32m--> 127\u001b[1;33m     \u001b[0mconn\u001b[0m \u001b[1;33m=\u001b[0m \u001b[0m_connect\u001b[0m\u001b[1;33m(\u001b[0m\u001b[0mdsn\u001b[0m\u001b[1;33m,\u001b[0m \u001b[0mconnection_factory\u001b[0m\u001b[1;33m=\u001b[0m\u001b[0mconnection_factory\u001b[0m\u001b[1;33m,\u001b[0m \u001b[1;33m**\u001b[0m\u001b[0mkwasync\u001b[0m\u001b[1;33m)\u001b[0m\u001b[1;33m\u001b[0m\u001b[1;33m\u001b[0m\u001b[0m\n\u001b[0m\u001b[0;32m    128\u001b[0m     \u001b[1;32mif\u001b[0m \u001b[0mcursor_factory\u001b[0m \u001b[1;32mis\u001b[0m \u001b[1;32mnot\u001b[0m \u001b[1;32mNone\u001b[0m\u001b[1;33m:\u001b[0m\u001b[1;33m\u001b[0m\u001b[1;33m\u001b[0m\u001b[0m\n\u001b[0;32m    129\u001b[0m         \u001b[0mconn\u001b[0m\u001b[1;33m.\u001b[0m\u001b[0mcursor_factory\u001b[0m \u001b[1;33m=\u001b[0m \u001b[0mcursor_factory\u001b[0m\u001b[1;33m\u001b[0m\u001b[1;33m\u001b[0m\u001b[0m\n",
      "\u001b[1;31mOperationalError\u001b[0m: could not translate host name \"13.postgresql.dev.asterix.heka.ai\" to address: Unknown host\n"
     ]
    }
   ],
   "source": [
    "## SELECTION DE LA DATE\n",
    "start_date = '2015-03-01'\n",
    "end_date = '2015-03-30'\n",
    "## FIN DE LA SELECTION DE LA DATE\n",
    "\n",
    "sql = f\"\"\"SELECT to_char(date, 'YYYY-MM-DD HH24:00:00') FROM(SELECT date FROM public.data_receptor \n",
    "          WHERE date >= '{start_date}' AND date <= '{end_date}' GROUP BY 1 ORDER BY 1) AS foo;\"\"\"\n",
    "connection = psycopg2.connect(user = USER, password = PASSWORD, host = HOSTNAME, port = PORT, database = DATABASE)\n",
    "df_dates = sqlio.read_sql_query(sql, connection)\n",
    "connection.close()\n",
    "dates = df_dates.T.values[0]"
   ]
  },
  {
   "attachments": {},
   "cell_type": "markdown",
   "metadata": {},
   "source": [
    "# III. Analyse exploratoire"
   ]
  },
  {
   "attachments": {},
   "cell_type": "markdown",
   "metadata": {},
   "source": [
    "## III.a Création de la boucle principale"
   ]
  },
  {
   "cell_type": "code",
   "execution_count": null,
   "metadata": {},
   "outputs": [],
   "source": [
    "def global_loop(profiles):\n",
    "    contribution = [[] for i in profiles]\n",
    "    contribution_mae = []\n",
    "    contribution_mse = []\n",
    "    connection = psycopg2.connect(user = USER, password = PASSWORD, host = HOSTNAME, port = PORT, database = DATABASE)\n",
    "    for date in dates:    \n",
    "        sql = f\"\"\"SELECT * FROM public.data_receptor where date = '{date}' \n",
    "            order by mass;\"\"\"\n",
    "        df_receptor_data = sqlio.read_sql_query(sql, connection)\n",
    "        df_receptor_data = df_receptor_data[df_receptor_data.columns]\n",
    "        cor = df.merge(df_receptor_data, left_on='amus', right_on='mass').drop(columns=['mass', 'amus'])\n",
    "\n",
    "        X_train = cor[profiles].values\n",
    "        y_train = cor['value'].values.reshape(-1,1)\n",
    "\n",
    "        alpha = 0.0001\n",
    "        lasso = Lasso(fit_intercept=False, alpha=alpha, max_iter=5000)     # We train without intercept and we shoose to have only positive values\n",
    "        lasso.fit(X_train, y_train)                                        #training the algorithm\n",
    "        clear_output(wait=True)\n",
    "        print(profiles)      \n",
    "        print(date)\n",
    "\n",
    "        data_profile = df[profiles].values\n",
    "        construct = np.dot(data_profile, lasso.coef_)\n",
    "\n",
    "        # MAE error\n",
    "        error_mae = np.sum(np.abs(construct - [a[0] for a in y_train])) / len(y_train)\n",
    "        contribution_mae.append(error_mae)\n",
    "\n",
    "        # MSE error\n",
    "        error_mse = np.sum(np.abs(construct**2 - np.array([a[0] for a in y_train])**2)) / len(y_train)\n",
    "        contribution_mse.append(error_mse)\n",
    "\n",
    "        for n, prof in enumerate(profiles):\n",
    "            contribution[n].append(lasso.coef_[n])\n",
    "    connection.close()\n",
    "    return contribution, contribution_mae, contribution_mse"
   ]
  },
  {
   "attachments": {},
   "cell_type": "markdown",
   "metadata": {},
   "source": [
    "## III.b CMB 10 profils \"optimisée\""
   ]
  },
  {
   "attachments": {},
   "cell_type": "markdown",
   "metadata": {},
   "source": [
    "### III.b.1 Boucle de traitements"
   ]
  },
  {
   "cell_type": "code",
   "execution_count": null,
   "metadata": {},
   "outputs": [
    {
     "name": "stdout",
     "output_type": "stream",
     "text": [
      "['HOA', 'OPOA/OBBOA', 'BSOA (marine)', 'BSOA (isoprene)', 'ASOA (nitro-PAHs)', 'ASOA (phenolic compounds oxidation)', 'ASOA (toluene oxidation)', 'SOA (unknown)']\n",
      "2015-03-14 00:00:00\n"
     ]
    }
   ],
   "source": [
    "list_profils = []\n",
    "seuil_last = np.inf\n",
    "\n",
    "for i in range(10):\n",
    "    for profil in pro:\n",
    "        selected_profil_approx = None\n",
    "        if profil not in list_profils:\n",
    "            result, error_mae, error_mse = global_loop(list_profils + [profil])\n",
    "            a = np.mean(error_mae)\n",
    "            if a < seuil_last:\n",
    "                seuil_last = a\n",
    "                selected_profil_approx = profil\n",
    "        if selected_profil_approx is not None:\n",
    "            list_profils.append(selected_profil_approx)\n",
    "    else:\n",
    "        break"
   ]
  },
  {
   "attachments": {},
   "cell_type": "markdown",
   "metadata": {},
   "source": [
    "### III.b.2 Résultats"
   ]
  },
  {
   "cell_type": "code",
   "execution_count": null,
   "metadata": {},
   "outputs": [
    {
     "name": "stdout",
     "output_type": "stream",
     "text": [
      "['HOA', 'OPOA/OBBOA', 'BSOA (marine)', 'BSOA (isoprene)', 'ASOA (nitro-PAHs)', 'ASOA (phenolic compounds oxidation)', 'ASOA (toluene oxidation)', 'SOA (unknown)']\n",
      "2015-03-14 00:00:00\n",
      "0.006545532813622266\n"
     ]
    }
   ],
   "source": [
    "result, error_mae, error_mse = global_loop(list_profils)\n",
    "print(np.mean(error_mae))"
   ]
  },
  {
   "attachments": {},
   "cell_type": "markdown",
   "metadata": {},
   "source": [
    "## III.c CMB 10 profils \"naïve\""
   ]
  },
  {
   "attachments": {},
   "cell_type": "markdown",
   "metadata": {},
   "source": [
    "### III.c.2 Boucle de traitements"
   ]
  },
  {
   "cell_type": "code",
   "execution_count": null,
   "metadata": {},
   "outputs": [
    {
     "name": "stdout",
     "output_type": "stream",
     "text": [
      "['HOA', 'BBOA', 'OPOA/OBBOA', 'BSOA (marine)', 'BSOA (isoprene)', 'ASOA (nitro-PAHs)', 'ASOA (oxy-PAHs)', 'ASOA (phenolic compounds oxidation)', 'ASOA (toluene oxidation)', 'SOA (unknown)']\n",
      "2015-03-14 00:00:00\n"
     ]
    }
   ],
   "source": [
    "seuil = np.inf\n",
    "for L in range(0, len(pro)+1):\n",
    "    for subset in itertools.combinations(pro, L):\n",
    "        if subset != ():\n",
    "            result, error_mae, error_mse = global_loop(list(subset))\n",
    "            a = np.mean(error_mae)\n",
    "            if a < seuil:\n",
    "                seuil = a\n",
    "                selected_profil = list(subset)"
   ]
  },
  {
   "cell_type": "code",
   "execution_count": null,
   "metadata": {},
   "outputs": [
    {
     "data": {
      "text/plain": [
       "['HOA',\n",
       " 'BBOA',\n",
       " 'OPOA/OBBOA',\n",
       " 'BSOA (marine)',\n",
       " 'ASOA (nitro-PAHs)',\n",
       " 'ASOA (phenolic compounds oxidation)',\n",
       " 'ASOA (toluene oxidation)',\n",
       " 'SOA (unknown)']"
      ]
     },
     "execution_count": 14,
     "metadata": {},
     "output_type": "execute_result"
    }
   ],
   "source": [
    "selected_profil"
   ]
  },
  {
   "attachments": {},
   "cell_type": "markdown",
   "metadata": {},
   "source": [
    "### III.c.2 Résultats"
   ]
  },
  {
   "cell_type": "code",
   "execution_count": null,
   "metadata": {},
   "outputs": [
    {
     "name": "stdout",
     "output_type": "stream",
     "text": [
      "['HOA', 'BBOA', 'OPOA/OBBOA', 'BSOA (marine)', 'ASOA (nitro-PAHs)', 'ASOA (phenolic compounds oxidation)', 'ASOA (toluene oxidation)', 'SOA (unknown)']\n",
      "2015-03-14 00:00:00\n",
      "0.006028899552365574\n"
     ]
    }
   ],
   "source": [
    "result, error_mae, error_mse = global_loop(selected_profil)\n",
    "print(np.mean(error_mae))"
   ]
  }
 ],
 "metadata": {
  "kernelspec": {
   "display_name": "base",
   "language": "python",
   "name": "python3"
  },
  "language_info": {
   "codemirror_mode": {
    "name": "ipython",
    "version": 3
   },
   "file_extension": ".py",
   "mimetype": "text/x-python",
   "name": "python",
   "nbconvert_exporter": "python",
   "pygments_lexer": "ipython3",
   "version": "3.9.7 (default, Sep 16 2021, 16:59:28) [MSC v.1916 64 bit (AMD64)]"
  },
  "orig_nbformat": 4,
  "vscode": {
   "interpreter": {
    "hash": "e3ffe14f082e62c7303f17a80c6be56e53b92486421840e0620dc6192fd024ee"
   }
  }
 },
 "nbformat": 4,
 "nbformat_minor": 2
}
